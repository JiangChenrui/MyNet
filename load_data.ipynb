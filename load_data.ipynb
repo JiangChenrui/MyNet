{
 "cells": [
  {
   "cell_type": "code",
   "execution_count": 1,
   "metadata": {},
   "outputs": [],
   "source": [
    "import numpy as np\n",
    "import cv2\n",
    "import matplotlib.pyplot as plt\n",
    "%matplotlib inline"
   ]
  },
  {
   "cell_type": "code",
   "execution_count": 2,
   "metadata": {},
   "outputs": [],
   "source": [
    "train_img_path = 'data/train_old'\n",
    "val_img_path = 'data/test_old'\n",
    "x_train = []\n",
    "y_train = []\n",
    "x_val = []\n",
    "y_val = []"
   ]
  },
  {
   "cell_type": "code",
   "execution_count": 3,
   "metadata": {},
   "outputs": [],
   "source": [
    "def load_path(img_path):\n",
    "    _path = []\n",
    "    lables = []\n",
    "    with open(img_path, 'r') as file:\n",
    "        # 将文本文件的数据读入到path_data\n",
    "        path_data = file.readlines()\n",
    "        for i in range(0, len(path_data)):\n",
    "            # 将字符串格式转换为正常格式\n",
    "            path_data[i] = path_data[i].split()\n",
    "            _path.append(path_data[i][0])\n",
    "            lables.append(int(path_data[i][1]))\n",
    "        x = np.array(_path)\n",
    "        y = np.array(lables)\n",
    "        return x, y"
   ]
  },
  {
   "cell_type": "code",
   "execution_count": 4,
   "metadata": {},
   "outputs": [],
   "source": [
    "x_train, y_train = load_path(train_img_path)\n",
    "data_num = len(x_train)"
   ]
  },
  {
   "cell_type": "code",
   "execution_count": 5,
   "metadata": {},
   "outputs": [],
   "source": [
    "def path_to_data(path, size=None):\n",
    "    if size != None:\n",
    "        return cv2.resize(cv2.imread(path), size)\n",
    "    else:\n",
    "        return cv2.resize(cv2.imread(path), (224, 224))"
   ]
  },
  {
   "cell_type": "code",
   "execution_count": 6,
   "metadata": {
    "scrolled": false
   },
   "outputs": [],
   "source": [
    "def generate_batch(x, y, batch_size=128):\n",
    "    for start in range(0, data_num):\n",
    "        x_batch = x[start: start + batch_size]\n",
    "        y_batch = y[start: start + batch_size]\n",
    "        start += batch_size\n",
    "\n",
    "        _x_batch = []\n",
    "        for i in range(x_batch.shape[0]):\n",
    "            _x_batch += [path_to_data(x_batch[i]), (224, 224)]\n",
    "        x_batch = np.array(_x_batch)\n",
    "        yield x_batch, y_batch"
   ]
  },
  {
   "cell_type": "code",
   "execution_count": 11,
   "metadata": {},
   "outputs": [
    {
     "name": "stdout",
     "output_type": "stream",
     "text": [
      "<generator object generate_batch at 0x7f588a27ad58>\n",
      "data/track_data_new/no_daocha/jinan_20150921_no_daocha_left_00273.jpg 0\n"
     ]
    }
   ],
   "source": [
    "print(generate_batch(x_train, y_train, 128))\n",
    "print(x_train[0], y_train[0])"
   ]
  },
  {
   "cell_type": "code",
   "execution_count": null,
   "metadata": {},
   "outputs": [],
   "source": []
  }
 ],
 "metadata": {
  "kernelspec": {
   "display_name": "pytorch3",
   "language": "python",
   "name": "pytorch3"
  },
  "language_info": {
   "codemirror_mode": {
    "name": "ipython",
    "version": 3
   },
   "file_extension": ".py",
   "mimetype": "text/x-python",
   "name": "python",
   "nbconvert_exporter": "python",
   "pygments_lexer": "ipython3",
   "version": "3.5.2"
  }
 },
 "nbformat": 4,
 "nbformat_minor": 2
}
